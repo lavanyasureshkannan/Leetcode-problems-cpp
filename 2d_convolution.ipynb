{
 "cells": [
  {
   "cell_type": "code",
   "execution_count": 2,
   "id": "d0f483e9",
   "metadata": {},
   "outputs": [],
   "source": [
    "import numpy as np"
   ]
  },
  {
   "cell_type": "code",
   "execution_count": null,
   "id": "bdaf62c9",
   "metadata": {},
   "outputs": [],
   "source": [
    "#computing the size of an output image\n",
    "# size_output = ((size_input - kernel + 2*padding) / stride) + 1"
   ]
  },
  {
   "cell_type": "code",
   "execution_count": 9,
   "id": "c428dac1",
   "metadata": {},
   "outputs": [],
   "source": [
    "def convolution_2d(Image, kernel, padding = 0, stride = 1):\n",
    "    #flip the kernel to perform convolution\n",
    "    kernel = np.flipud(np.fliplr(kernel))\n",
    "    \n",
    "    image_x = Image.shape[0]\n",
    "    image_y = Image.shape[1]\n",
    "    \n",
    "    kernel_x = kernel.shape[0]\n",
    "    kernel_y = kernel.shape[1]\n",
    "    \n",
    "    output_x = int((image_x - kernel_x + (2 * padding)) / stride) + 1\n",
    "    output_y = int((image_y - kernel_y + (2 * padding)) / stride) + 1\n",
    "    \n",
    "    #creating a output matrix\n",
    "    output = np.zeros((output_x, output_y))\n",
    "    \n",
    "    # image padding\n",
    "    if(padding != 0):\n",
    "        padded_image = np.zeros((image_x + padding * 2 , image_y + padding * 2))\n",
    "        padded_image[int(padding):int(-1 * padding), int(padding):int(-1 * padding)] = image\n",
    "    else:\n",
    "        padded_image = Image\n",
    "    \n",
    "    # perform convolution\n",
    "    for x in range(image_x):\n",
    "        # go to next row once kernel is out of bounds\n",
    "        if(x > image_x - kernel_x):\n",
    "            break\n",
    "            #only convolve if x has moved by the specified strides\n",
    "            if (x%stride == 0):    \n",
    "                for y in range(image_y):\n",
    "                    if(y > image_y - kernel_y):\n",
    "                        break\n",
    "                    try:\n",
    "                        if(y%stride == 0):\n",
    "                            output[x,y] = (kernel * padded_image[x: x + kernel_x,\n",
    "                                                                 y : y + kernel_y]).sum()\n",
    "                    except:\n",
    "                        break\n",
    "\n",
    "    return output"
   ]
  },
  {
   "cell_type": "code",
   "execution_count": null,
   "id": "ad1c3168",
   "metadata": {},
   "outputs": [],
   "source": []
  }
 ],
 "metadata": {
  "kernelspec": {
   "display_name": "Python 3 (ipykernel)",
   "language": "python",
   "name": "python3"
  },
  "language_info": {
   "codemirror_mode": {
    "name": "ipython",
    "version": 3
   },
   "file_extension": ".py",
   "mimetype": "text/x-python",
   "name": "python",
   "nbconvert_exporter": "python",
   "pygments_lexer": "ipython3",
   "version": "3.8.10"
  }
 },
 "nbformat": 4,
 "nbformat_minor": 5
}
